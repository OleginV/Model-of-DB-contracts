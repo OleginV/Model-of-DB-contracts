{
 "cells": [
  {
   "cell_type": "markdown",
   "metadata": {},
   "source": [
    "# Прогнозирование на основе обученной модели классификации базы контрактов \n",
    "# (Prediction based on a trained contract base classification model)"
   ]
  },
  {
   "cell_type": "markdown",
   "metadata": {},
   "source": [
    "### 1. Подготовка и обработка датасета (Preparation and preprocessing of dataset)"
   ]
  },
  {
   "cell_type": "markdown",
   "metadata": {},
   "source": [
    "#### Обработка массива данных по номенклатуре (Preprocessing the sku dataset)"
   ]
  },
  {
   "cell_type": "code",
   "execution_count": 1,
   "metadata": {},
   "outputs": [],
   "source": [
    "# standart library block \n",
    "import pandas as pd\n",
    "import numpy as np"
   ]
  },
  {
   "cell_type": "code",
   "execution_count": 2,
   "metadata": {},
   "outputs": [],
   "source": [
    "# Чтение файла с данными по sku (Reading sku data file)\n",
    "skuData = pd.read_csv(\"Dataset/1_skuData.csv\", dtype={'Id': object, 'okpd12': object}, sep=';')"
   ]
  },
  {
   "cell_type": "code",
   "execution_count": 3,
   "metadata": {},
   "outputs": [
    {
     "name": "stdout",
     "output_type": "stream",
     "text": [
      "<class 'pandas.core.frame.DataFrame'>\n",
      "RangeIndex: 10497862 entries, 0 to 10497861\n",
      "Data columns (total 5 columns):\n",
      "Id          object\n",
      "okpd12      object\n",
      "skuPrice    float64\n",
      "skuQt       float64\n",
      "skuSum      float64\n",
      "dtypes: float64(3), object(2)\n",
      "memory usage: 400.5+ MB\n"
     ]
    }
   ],
   "source": [
    "# Информация о датасете (Info about dataset)\n",
    "skuData.info()"
   ]
  },
  {
   "cell_type": "code",
   "execution_count": 4,
   "metadata": {},
   "outputs": [],
   "source": [
    "# Создание новой переменной с помощью нарезки 'okpd12' до 2-го элемента\n",
    "# (Create new feature with help slicing 'okpd12' till 2nd element)\n",
    "skuData['okpd1']= skuData['okpd12'].str.slice(0, 2, 1)"
   ]
  },
  {
   "cell_type": "code",
   "execution_count": 5,
   "metadata": {},
   "outputs": [],
   "source": [
    "# Группировка данных по id и транспонирование их по ОКПД (Grouping data by id and transposing them by OKPD)\n",
    "Dataset_sku = pd.pivot_table(skuData,\n",
    "                             index=[\"Id\"],\n",
    "                             columns=[\"okpd1\"], \n",
    "                             values=[\"skuPrice\", \"skuQt\", \"skuSum\"], \n",
    "                             aggfunc={\"skuPrice\":[max,min,np.mean], \n",
    "                                      \"skuQt\":[max,min,np.mean, np.sum], \n",
    "                                      \"skuSum\":[max,min,np.mean, np.sum]}, \n",
    "                             fill_value=0)"
   ]
  },
  {
   "cell_type": "code",
   "execution_count": 6,
   "metadata": {},
   "outputs": [],
   "source": [
    "# Сброс индексов и переименование столбцов (Reset index and rename columns)\n",
    "Dataset_sku.reset_index()\n",
    "headers = list(range(len(Dataset_sku.columns)))\n",
    "Dataset_sku.columns = headers"
   ]
  },
  {
   "cell_type": "code",
   "execution_count": 7,
   "metadata": {},
   "outputs": [
    {
     "data": {
      "text/plain": [
       "(248653, 979)"
      ]
     },
     "execution_count": 7,
     "metadata": {},
     "output_type": "execute_result"
    }
   ],
   "source": [
    "# Размер датасета (Dataset size)\n",
    "Dataset_sku.shape"
   ]
  },
  {
   "cell_type": "markdown",
   "metadata": {},
   "source": [
    "#### Обработка массива данных по контрактам (Preprocessing the contracts dataset)"
   ]
  },
  {
   "cell_type": "code",
   "execution_count": 8,
   "metadata": {},
   "outputs": [],
   "source": [
    "# Чтение файлов с данными по агрегированным переменным контактов и значению таргета (Reading contracts data file)\n",
    "countsData = pd.read_csv(\"Dataset/2_countsData.csv\", dtype={'Id': object}, sep=';')\n",
    "sumData = pd.read_csv(\"Dataset/3_sumData.csv\", dtype={'Id': object}, sep=';')\n",
    "tipData = pd.read_csv(\"Dataset/4_tipData.csv\", dtype={'Id': object}, sep=';')\n",
    "targetData = pd.read_csv(\"Dataset/5_targetData.csv\", dtype={'Id': object}, sep=';')"
   ]
  },
  {
   "cell_type": "code",
   "execution_count": 9,
   "metadata": {},
   "outputs": [],
   "source": [
    "countsData = countsData.drop('sku_quant', axis=1)"
   ]
  },
  {
   "cell_type": "code",
   "execution_count": 10,
   "metadata": {},
   "outputs": [],
   "source": [
    "# Объединение файлов в общий массив Dataset_contracts (Joining files into a common dataset Dataset_contracts)\n",
    "count_sumData = pd.merge(countsData, \n",
    "                         sumData, \n",
    "                         on = 'Id')\n",
    "count_sum_tipData = pd.merge(count_sumData,\n",
    "                            tipData,\n",
    "                            on = 'Id')\n",
    "Dataset_contracts = pd.merge(count_sum_tipData,\n",
    "                            targetData,\n",
    "                            on = 'Id')"
   ]
  },
  {
   "cell_type": "code",
   "execution_count": 11,
   "metadata": {
    "scrolled": true
   },
   "outputs": [
    {
     "name": "stdout",
     "output_type": "stream",
     "text": [
      "<class 'pandas.core.frame.DataFrame'>\n",
      "Int64Index: 248653 entries, 0 to 248652\n",
      "Data columns (total 15 columns):\n",
      "Id                    248653 non-null object\n",
      "contract_quant        248653 non-null int64\n",
      "cnt_uniq_buyer        248653 non-null int64\n",
      "cnt_buyRegion         248653 non-null int64\n",
      "cnt_buy_contPerson    248653 non-null int64\n",
      "skuOKPD_quant         248653 non-null int64\n",
      "cnt_OKEI              248653 non-null int64\n",
      "personal              248653 non-null int64\n",
      "cnt_months            248653 non-null int64\n",
      "tot_contractSum       248653 non-null float64\n",
      "min_contractSum       248653 non-null float64\n",
      "max_contractSum       248653 non-null float64\n",
      "avg_contractSum       248653 non-null float64\n",
      "bidding_type          248653 non-null int64\n",
      "soft_target           248653 non-null int64\n",
      "dtypes: float64(4), int64(10), object(1)\n",
      "memory usage: 30.4+ MB\n"
     ]
    }
   ],
   "source": [
    "Dataset_contracts.info()"
   ]
  },
  {
   "cell_type": "markdown",
   "metadata": {},
   "source": [
    "#### Создание общего массива данных для обработки с помощью обученной модели классификации (Create common dataset for processing using a trained model)"
   ]
  },
  {
   "cell_type": "code",
   "execution_count": 12,
   "metadata": {},
   "outputs": [],
   "source": [
    "# Создание общего датасета для обучения модели (Create a common dataset for machine learning)\n",
    "kz_data = pd.merge(Dataset_contracts, \n",
    "                   Dataset_sku, \n",
    "                   on = 'Id')"
   ]
  },
  {
   "cell_type": "code",
   "execution_count": 13,
   "metadata": {},
   "outputs": [
    {
     "data": {
      "text/plain": [
       "(248653, 994)"
      ]
     },
     "execution_count": 13,
     "metadata": {},
     "output_type": "execute_result"
    }
   ],
   "source": [
    "# Размер итогового датасета (Dataset size)\n",
    "kz_data.shape"
   ]
  },
  {
   "cell_type": "markdown",
   "metadata": {},
   "source": [
    "### 2. Прогнозирование на основе обученной модели (Prediction based on a trained model)"
   ]
  },
  {
   "cell_type": "code",
   "execution_count": 14,
   "metadata": {},
   "outputs": [],
   "source": [
    "# standart library block\n",
    "import numpy as np\n",
    "import pandas as pd\n",
    "import pickle\n",
    "\n",
    "# learning library block\n",
    "from sklearn.preprocessing import StandardScaler\n",
    "from sklearn.externals import joblib\n",
    "\n",
    "from catboost import CatBoostClassifier\n",
    "from catboost import cv\n",
    "from catboost.datasets import amazon\n",
    "from catboost.datasets import epsilon"
   ]
  },
  {
   "cell_type": "markdown",
   "metadata": {},
   "source": [
    "#### Подготовка датасета (Prepared dataset)"
   ]
  },
  {
   "cell_type": "code",
   "execution_count": 15,
   "metadata": {},
   "outputs": [],
   "source": [
    "# Определение features. \n",
    "# (Purpose of \"features\".)\n",
    "                     #y=kz_data['soft_target'].copy()\n",
    "X=kz_data.drop('soft_target', axis=1)"
   ]
  },
  {
   "cell_type": "code",
   "execution_count": 16,
   "metadata": {},
   "outputs": [
    {
     "name": "stderr",
     "output_type": "stream",
     "text": [
      "C:\\Users\\voropaev.om\\AppData\\Local\\Continuum\\anaconda3\\lib\\site-packages\\sklearn\\preprocessing\\data.py:645: DataConversionWarning: Data with input dtype int64, float64, object were all converted to float64 by StandardScaler.\n",
      "  return self.partial_fit(X, y)\n",
      "C:\\Users\\voropaev.om\\AppData\\Local\\Continuum\\anaconda3\\lib\\site-packages\\sklearn\\base.py:464: DataConversionWarning: Data with input dtype int64, float64, object were all converted to float64 by StandardScaler.\n",
      "  return self.fit(X, **fit_params).transform(X)\n",
      "C:\\Users\\voropaev.om\\AppData\\Local\\Continuum\\anaconda3\\lib\\site-packages\\ipykernel_launcher.py:4: DataConversionWarning: Data with input dtype int64, float64, object were all converted to float64 by StandardScaler.\n",
      "  after removing the cwd from sys.path.\n"
     ]
    }
   ],
   "source": [
    "# Стандартизация значений переменных (Standardization of features values)\n",
    "scaler = StandardScaler()\n",
    "scaler.fit_transform(X)\n",
    "X_scaled = scaler.transform(X)"
   ]
  },
  {
   "cell_type": "markdown",
   "metadata": {},
   "source": [
    "#### Прогнозирование - Модель CatBoost v.4 (Prediction - Model CatBoost v.4)"
   ]
  },
  {
   "cell_type": "code",
   "execution_count": 17,
   "metadata": {},
   "outputs": [],
   "source": [
    "model = CatBoostClassifier() # выбираем тип модели (choose the type of model)\n",
    "model.load_model('Trained models/kz_cat4.cbm') # загружаем обученную модель (load trained model)\n",
    "\n",
    "kz_pred_cat_train = model.predict_proba(data=X)[:,1] # предсказание для рабочего датасета (prediction for work sample)"
   ]
  },
  {
   "cell_type": "code",
   "execution_count": 18,
   "metadata": {},
   "outputs": [],
   "source": [
    "# Сохранение полученных резульатов (Save the results)\n",
    "df1 = pd.DataFrame(X['Id'])\n",
    "df2 = pd.DataFrame(kz_pred_cat_train)\n",
    "df2.columns=['Predictions']\n",
    "res = pd.concat([df1, df2.reindex(df1.index)], axis=1)\n",
    "predict_results = pd.DataFrame(res).to_csv('Results prediction/prediction_kz_model.csv', index=False, sep=';')"
   ]
  }
 ],
 "metadata": {
  "kernelspec": {
   "display_name": "Python 3",
   "language": "python",
   "name": "python3"
  },
  "language_info": {
   "codemirror_mode": {
    "name": "ipython",
    "version": 3
   },
   "file_extension": ".py",
   "mimetype": "text/x-python",
   "name": "python",
   "nbconvert_exporter": "python",
   "pygments_lexer": "ipython3",
   "version": "3.7.3"
  }
 },
 "nbformat": 4,
 "nbformat_minor": 2
}
